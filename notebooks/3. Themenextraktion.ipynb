{
 "cells": [
  {
   "cell_type": "code",
   "execution_count": 2,
   "id": "8857d41e-0443-47ab-8831-622267081e02",
   "metadata": {},
   "outputs": [],
   "source": [
    "import pandas as pd\n",
    "import numpy as np\n",
    "import matplotlib.pyplot as plt\n",
    "import seaborn as sns\n",
    "import json\n",
    "import joblib\n",
    "from scipy.sparse import csr_matrix\n",
    "from sklearn.decomposition import TruncatedSVD, LatentDirichletAllocation\n",
    "from sklearn.feature_extraction.text import TfidfVectorizer, CountVectorizer\n",
    "from sklearn.pipeline import Pipeline\n",
    "from sklearn.preprocessing import Normalizer\n",
    "from sklearn.manifold import TSNE\n",
    "from sklearn.cluster import KMeans\n",
    "import matplotlib.colors as mcolors\n",
    "import matplotlib.cm as cm\n",
    "import pyLDAvis\n",
    "import pyLDAvis.lda_model\n",
    "from wordcloud import WordCloud"
   ]
  },
  {
   "cell_type": "code",
   "execution_count": 3,
   "id": "e6238dfb-95f2-4398-b2aa-b41a0d712ed4",
   "metadata": {},
   "outputs": [],
   "source": [
    "# Stile für Visualisierungen \n",
    "plt.style.use('seaborn-v0_8-whitegrid')  # Matplotlib-Stil mit weißem Hintergrund und Gitternetz\n",
    "plt.rcParams['figure.figsize'] = (12, 8)  # Standardgröße der Plots: 12x8 Zoll\n",
    "plt.rcParams['font.size'] = 12           # Standard-Schriftgröße: 12pt\n",
    "sns.set_style(\"whitegrid\")               # Seaborn-Stil: weißer Hintergrund mit Gitternetz"
   ]
  },
  {
   "cell_type": "code",
   "execution_count": 4,
   "id": "4ddce46e-c3df-4274-8178-c17d9096cb95",
   "metadata": {},
   "outputs": [
    {
     "name": "stdout",
     "output_type": "stream",
     "text": [
      "Datei gefunden.\n",
      "Geladene Texte: 66806\n"
     ]
    }
   ],
   "source": [
    "# Daten laden\n",
    "try:\n",
    "    processed_df = pd.read_csv('../data/processed_complaints_v2.csv')\n",
    "    print(\"Datei gefunden.\")\n",
    "    print(f\"Geladene Texte: {len(processed_df)}\")\n",
    "except FileNotFoundError:\n",
    "    print(\"Fehler: Datei 'processed_complaints_v2.csv' nicht gefunden. Zuerst 1. Datenvorverarbeitung vollständig ausführen\")"
   ]
  }
 ],
 "metadata": {
  "kernelspec": {
   "display_name": "nlp_projekt",
   "language": "python",
   "name": "python3"
  },
  "language_info": {
   "codemirror_mode": {
    "name": "ipython",
    "version": 3
   },
   "file_extension": ".py",
   "mimetype": "text/x-python",
   "name": "python",
   "nbconvert_exporter": "python",
   "pygments_lexer": "ipython3",
   "version": "3.11.11"
  }
 },
 "nbformat": 4,
 "nbformat_minor": 5
}
