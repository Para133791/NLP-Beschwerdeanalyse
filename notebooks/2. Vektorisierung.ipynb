{
 "cells": [
  {
   "cell_type": "code",
   "execution_count": null,
   "id": "d03fca32-aa2b-405f-b22d-9d24efb5184e",
   "metadata": {},
   "outputs": [],
   "source": [
    "##########################################################\n",
    "\n",
    "# Hier werden die vorverarbeiteten Beschwerde-Texte in numerische Vektoren umgewandelt.\n",
    "# Dazu nutzen wir:\n",
    "# 1. TF-IDF: Gewichtung relevanter Begriffe basierend auf Häufigkeit und Seltenheit\n",
    "# 2. Bag-of-Words: Zählt die Häufigkeit von Wörtern in den Texten\n",
    "\n",
    "##########################################################\n",
    "# Die Ergebnisse werden wieder gespeichert um mit dem nächsten Notebook die Themen zu Extrahieren und Analysieren\n",
    "\n",
    "import pandas as pd\n",
    "import numpy as np\n",
    "import os\n",
    "from sklearn.feature_extraction.text import TfidfVectorizer, CountVectorizer\n",
    "import gensim\n",
    "from gensim.models import Word2Vec\n",
    "from nltk.tokenize import word_tokenize\n",
    "import matplotlib.pyplot as plt\n",
    "import seaborn as sns\n",
    "import re\n",
    "import joblib  # Sichere Alternative zu pickle für das Speichern von Modellen\n",
    "import json    # Zum Speichern von Metadaten"
   ]
  },
  {
   "cell_type": "code",
   "execution_count": null,
   "id": "dd1a4a22-7327-4c92-bcda-6cc203ec152b",
   "metadata": {},
   "outputs": [],
   "source": [
    "# Versuchen Daten einzulesen\n",
    "try:\n",
    "    processed_df = pd.read_csv('../data/processed_complaints_v2.csv')\n",
    "    print(\"Datei gefunden.\")\n",
    "    print(f\"Geladene Texte: {len(processed_df)}\")\n",
    "except FileNotFoundError:\n",
    "    print(\"Fehler: Datei 'processed_complaints_v2.csv' nicht gefunden. Zuerst 1. Datenvorverarbeitung ausführen\")"
   ]
  },
  {
   "cell_type": "code",
   "execution_count": null,
   "id": "fe76afbc-78d6-4f17-ad73-fe42474043b1",
   "metadata": {},
   "outputs": [],
   "source": [
    "# Korpus erstellen, NaN-Werte entfernen sowie Numpy Array zu Listen konvertieren\n",
    "corpus = processed_df['processed_text'].dropna().tolist()"
   ]
  },
  {
   "cell_type": "code",
   "execution_count": null,
   "id": "3358628f-a1b5-46f5-a200-371cd5c5fad2",
   "metadata": {},
   "outputs": [],
   "source": [
    "##########################################################\n",
    "# 1. TF-IDF Vektorisierung\n",
    "##########################################################\n",
    "\n",
    "tfidf_vectorizer = TfidfVectorizer(\n",
    "    max_features = 2000, # Limitiert auf die 2000 relevantesten Begriffe für effiziente Berechnung und Fokus auf Hauptthemen\n",
    "    min_df = 5,          # Begriffe müssen in mindestens 5 Dokumenten vorkommen, um Rauschen zu reduzieren\n",
    "    max_df= 0.75,        # Ignoriert Begriffe, die in mehr als 75% der Dokumente vorkommen (zu allgemein)\n",
    "    ngram_range=(1, 2)   # Berücksichtigt Einzelwörter und Wortpaare für kontextuelle Begriffe\n",
    ")\n"
   ]
  },
  {
   "cell_type": "code",
   "execution_count": null,
   "id": "dcbe8f3f-0074-4111-b071-02b99f3d9503",
   "metadata": {},
   "outputs": [],
   "source": [
    "# Vektorisierung durchführen\n",
    "tfidf_matrix = tfidf_vectorizer.fit_transform(corpus)\n",
    "print(f\"TF-IDF-Matrix erstellt mit Shape: {tfidf_matrix.shape}\")\n",
    "print(\"Beispielbegriffe:\", list(tfidf_vectorizer.get_feature_names_out()[:10]))"
   ]
  },
  {
   "cell_type": "code",
   "execution_count": null,
   "id": "3d50fe87",
   "metadata": {},
   "outputs": [],
   "source": [
    "# Speichern des TF-IDF Modells\n",
    "joblib.dump(tfidf_vectorizer, '../models/tfidf_vectorizer.joblib')\n",
    "np.save('../models/tfidf_matrix.npy', tfidf_matrix.toarray())\n",
    "\n",
    "# Hier kam es zu einem Fehler mit einem Datentyp int64 um das Vokabular als JSON zu speichern. \n",
    "# Deshalb wird der Datentyp hier noch geändert. \n",
    "\n",
    "vocabulary_clean = {k: int(v) for k, v in tfidf_vectorizer.vocabulary_.items()}\n",
    "\n",
    "# Speichern des Vokabulars als JSON für bessere Interpretierbarkeit\n",
    "vocabulary = tfidf_vectorizer.vocabulary_\n",
    "with open('../models/tfidf_vocabulary.json', 'w', encoding='utf-8') as f:\n",
    "    json.dump(vocabulary_clean, f, ensure_ascii=False, indent=4)"
   ]
  },
  {
   "cell_type": "code",
   "execution_count": null,
   "id": "c5e4826c-ab6a-400e-959b-60df4bb4500c",
   "metadata": {},
   "outputs": [],
   "source": [
    "# Mittelwert je Spalte (= Begriff) berechnen\n",
    "tfidf_means = np.asarray(tfidf_matrix.mean(axis=0)).flatten()\n",
    "\n",
    "# Begriffe holen\n",
    "terms = tfidf_vectorizer.get_feature_names_out()\n",
    "\n",
    "# Top 20 Begriffe mit höchstem durchschnittlichen TF-IDF-Wert\n",
    "top_n = 20\n",
    "top_indices = tfidf_means.argsort()[::-1][:top_n]\n",
    "top_terms = [terms[i] for i in top_indices]\n",
    "top_scores = [tfidf_means[i] for i in top_indices]\n",
    "\n",
    "# Balkendiagramm erstellen\n",
    "plt.figure(figsize=(12, 6))\n",
    "plt.barh(top_terms[::-1], top_scores[::-1])  # Ohne [::-1] sind die niedrigsten Werte oben\n",
    "plt.xlabel(\"Durchschnittlicher TF-IDF-Wert\")\n",
    "plt.title(\"Top 20 Begriffe nach durchschnittlichem TF-IDF\")\n",
    "plt.tight_layout()"
   ]
  },
  {
   "cell_type": "code",
   "execution_count": null,
   "id": "b498f29a",
   "metadata": {},
   "outputs": [],
   "source": [
    "##########################################################\n",
    "# 2. Bag-of-Words Vektorisierung für LDA\n",
    "##########################################################\n",
    "# https://scikit-learn.org/stable/modules/generated/sklearn.feature_extraction.text.CountVectorizer.html Erklärung\n",
    "# Bag-of-Words Vektorisierung mit CountVectorizer\n",
    "\n",
    "count_vectorizer = CountVectorizer(\n",
    "    max_features=5000,\n",
    "    min_df=5,\n",
    "    max_df=0.75,\n",
    "    ngram_range=(1, 2)\n",
    ")\n",
    "\n",
    "# Count Matrix berechnen\n",
    "count_matrix = count_vectorizer.fit_transform(corpus)\n",
    "print(f\"Count Matrix erstellt: {count_matrix.shape[0]} Dokumente/Zeilen, {count_matrix.shape[1]} Features\")"
   ]
  },
  {
   "cell_type": "code",
   "execution_count": null,
   "id": "bc4e1b72-8045-43d6-8d74-1caf59ce3267",
   "metadata": {},
   "outputs": [],
   "source": [
    "# Speichern des Count Vectorizers (BoW) und der Matrix für die LDA-Analyse\n",
    "joblib.dump(count_vectorizer, '../models/count_vectorizer_for_lda.joblib')\n",
    "np.save('../models/count_matrix_for_lda.npy', count_matrix.toarray())"
   ]
  },
  {
   "cell_type": "code",
   "execution_count": null,
   "id": "d221f0a3",
   "metadata": {},
   "outputs": [],
   "source": [
    "# Speichern des Vokabulars (für die Interpretation der LDA-Themen)\n",
    "count_vocabulary = count_vectorizer.vocabulary_\n",
    "\n",
    "# Konvertiere alle numpy.int64-Werte zu normalen Python int, auch hier kam es zu einem Datentyp Fehler\n",
    "count_vocabulary = {key: int(value) for key, value in count_vocabulary.items()}\n",
    "\n",
    "# Speichern des Vokabulars als JSON\n",
    "with open('../models/count_vocabulary.json', 'w', encoding='utf-8') as f:\n",
    "    json.dump(count_vocabulary, f, ensure_ascii=False, indent=4)\n"
   ]
  },
  {
   "cell_type": "code",
   "execution_count": null,
   "id": "45d2f638-c377-43a1-bf7a-985304dc0582",
   "metadata": {},
   "outputs": [],
   "source": [
    "# Visualisierung der häufigsten Terme \n",
    "term_freq = np.sum(count_matrix.toarray(), axis=0)\n",
    "count_terms = count_vectorizer.get_feature_names_out()\n",
    "\n",
    "# Sortiere nach Häufigkeit und zeige die Top 15 Begriffe\n",
    "term_freq_sorted = sorted(zip(count_terms, term_freq), key=lambda x: x[1], reverse=True)\n",
    "top_terms = term_freq_sorted[:15][::-1] # Top 15 Begriffe umgekehrt sortiert\n",
    "\n",
    "# Daten für das Balkendiagramm vorbereiten\n",
    "plt.figure(figsize=(12, 8))\n",
    "plt.barh([term[0] for term in top_terms], [term[1] for term in top_terms])\n",
    "plt.xlabel('Absolute Häufigkeit')\n",
    "plt.title('Top 15 häufigste Begriffe im Korpus')\n",
    "plt.tight_layout()\n",
    "\n"
   ]
  },
  {
   "cell_type": "code",
   "execution_count": null,
   "id": "abaa86ee-1136-4b57-aa63-afbba9a28243",
   "metadata": {},
   "outputs": [],
   "source": []
  }
 ],
 "metadata": {
  "kernelspec": {
   "display_name": "nlp_projekt",
   "language": "python",
   "name": "python3"
  },
  "language_info": {
   "codemirror_mode": {
    "name": "ipython",
    "version": 3
   },
   "file_extension": ".py",
   "mimetype": "text/x-python",
   "name": "python",
   "nbconvert_exporter": "python",
   "pygments_lexer": "ipython3",
   "version": "3.11.11"
  }
 },
 "nbformat": 4,
 "nbformat_minor": 5
}
