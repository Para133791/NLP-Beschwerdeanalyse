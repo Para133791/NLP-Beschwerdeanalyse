{
 "cells": [
  {
   "cell_type": "code",
   "execution_count": 7,
   "id": "d0b4db64-16bf-426a-9316-7e542c5a6eae",
   "metadata": {},
   "outputs": [],
   "source": [
    "# Standardibliotheken importieren\n",
    "import pandas as pd\n",
    "import numpy as np\n",
    "import matplotlib.pyplot as plt\n",
    "import seaborn as sns\n",
    "\n",
    "# NLP Bibliotheken\n",
    "import nltk\n",
    "from nltk.corpus import stopwords\n",
    "from nltk.tokenize import word_tokenize\n",
    "from nltk.stem import WordNetLemmatizer\n",
    "import spacy\n",
    "import re\n"
   ]
  },
  {
   "cell_type": "code",
   "execution_count": null,
   "id": "f5d204a6-76c8-4d81-9ede-141150c4161e",
   "metadata": {},
   "outputs": [],
   "source": [
    "# Download für englischensprachigen Datensatz\n",
    "!python -m spacy download en_core_web_sm\n",
    "\n"
   ]
  },
  {
   "cell_type": "code",
   "execution_count": null,
   "id": "2d412f54-8a51-4e54-8730-ef69786d7ab4",
   "metadata": {},
   "outputs": [],
   "source": [
    "# NLTK-Downloads Initialisierungen & Downloads\n",
    "try:\n",
    "    nltk.download('punkt', quiet=True)\n",
    "    nltk.download('stopwords', quiet=True)\n",
    "    nltk.download('wordnet', quiet=True)\n",
    "    nlp = spacy.load('en_core_web_sm')\n",
    "    print(\"NLP-Bibliotheken erfolgreich initialisiert.\")\n",
    "except Exception as e:\n",
    "    print(\"Fehler beim Laden der NLP-Komponenten:\")\n",
    "    print(e)\n",
    "\n",
    "# Spacy-Modell laden\n",
    "nlp = spacy.load('en_core_web_sm')\n",
    "\n",
    "# Prüfen ob der Datensatz vorhanden ist und laden\n",
    "try: \n",
    "    # Pfad ggf. anpassen\n",
    "    data = pd.read_csv('../data/consumer_complaints.csv', low_memory=False)\n",
    "    print(f\"Datensatz vorhanden und geladen: {data.shape[0]} Zeilen und {data.shape[1]} Spalten\")\n",
    "except FileNotFoundError:\n",
    "    print(\"Datei nicht gefunden. Bitte lade den Datensatz herunter und speichere ihn im 'data'-Ordner.\")\n"
   ]
  }
 ],
 "metadata": {
  "kernelspec": {
   "display_name": "Python 3 (ipykernel)",
   "language": "python",
   "name": "python3"
  },
  "language_info": {
   "codemirror_mode": {
    "name": "ipython",
    "version": 3
   },
   "file_extension": ".py",
   "mimetype": "text/x-python",
   "name": "python",
   "nbconvert_exporter": "python",
   "pygments_lexer": "ipython3",
   "version": "3.11.11"
  }
 },
 "nbformat": 4,
 "nbformat_minor": 5
}
